{
 "cells": [
  {
   "cell_type": "markdown",
   "metadata": {},
   "source": [
    "# Connect Three \n",
    "\n",
    "The primary description of this coursework is available on the CM20252 Moodle page. This is the Jupyter notebook you must complete and submit to receive marks. This notebook adds additional detail to the coursework specification but does not repeat the information that has already been provided there. \n",
    "\n",
    "You must follow all instructions given in this notebook precisely.\n",
    "\n",
    "Restart the kernel and run all cells before submitting the notebook. This will guarantee that we will be able to run your code for testing. Remember to save your work regularly.\n",
    "\n",
    "__You will develop players for Connect-Three on a grid that is 5 columns wide and 3 rows high. An example is shown below showing a win for Player Red.__\n",
    "\n",
    "<img src=\"images/connect3.png\" style=\"width: 200px;\"/>"
   ]
  },
  {
   "cell_type": "markdown",
   "metadata": {},
   "source": [
    "## Preliminaries\n",
    "\n",
    "For your reference, below is a visual depiction of the agent-environment interface in reinforcement learning. The interaction of the agent with its environments starts at decision stage $t=0$ with the observation of the current state $s_0$. (Notice that there is no reward at this initial stage.) The agent then chooses an action to execute at decision stage $t=1$. The environment responds by changing its state to $s_1$ and returning the numerical reward signal $r_1$. \n",
    "\n",
    "<img src=\"images/agent-environment.png\" style=\"width: 500px;\"/>\n",
    "\n",
    "<br><br><br>\n",
    "\n",
    "Below, we provide some code that will be useful for implementing parts of this interface. You are not obligated to use this code; please feel free to develop your own code from scratch. \n",
    "\n",
    "### Code details\n",
    "\n",
    "We provide a `Connect` class that you can use to simulate Connect-Three games. The following cells in this section will walk you through the basic usage of this class by playing a couple of games.\n",
    "\n",
    "We import the `connect` module and create a Connect-Three environment called `env`. The constructor method has one argument called `verbose`. If `verbose=True`, the `Connect` object will regularly print the progress of the game. This is useful for getting to know the provided code, debugging your code, or if you just want to play around. You will want to set `verbose=False` when you run hundreds of episodes to complete the marked exercises.\n",
    "\n",
    "This `Connect` environment uses the strings `'o'` and `'x'` instead of different disk colors in order to distinguish between the two players. We can specify who should start the game using the `starting_player` argument."
   ]
  },
  {
   "cell_type": "code",
   "execution_count": 1,
   "metadata": {},
   "outputs": [
    {
     "name": "stdout",
     "output_type": "stream",
     "text": [
      "Game has been reset.\n",
      "[[' ' ' ' ' ' ' ' ' ']\n",
      " [' ' ' ' ' ' ' ' ' ']\n",
      " [' ' ' ' ' ' ' ' ' ']]\n"
     ]
    }
   ],
   "source": [
    "import connect\n",
    "env = connect.Connect(starting_player='x', verbose=True)"
   ]
  },
  {
   "cell_type": "markdown",
   "metadata": {},
   "source": [
    "\n",
    "We can interact with the environment using the `act()` method. This method takes an `action` (an integer) as input and computes the response of the environment. An action is defined as the column index that a disk is dropped into. The `act()` method returns the `reward` for player `'o'` and a boolean, indicating whether the game is over (`True`) or not (`False`). "
   ]
  },
  {
   "cell_type": "code",
   "execution_count": 2,
   "metadata": {},
   "outputs": [
    {
     "name": "stdout",
     "output_type": "stream",
     "text": [
      "[[' ' ' ' ' ' ' ' ' ']\n",
      " [' ' ' ' ' ' ' ' ' ']\n",
      " [' ' ' ' 'x' ' ' ' ']]\n",
      "reward = 0\n",
      "game_over = False\n"
     ]
    }
   ],
   "source": [
    "reward, game_over = env.act(action=2)\n",
    "print(\"reward =\", reward)\n",
    "print(\"game_over =\", game_over)"
   ]
  },
  {
   "cell_type": "markdown",
   "metadata": {},
   "source": [
    "Because we set `verbose=True` when we created our environment, the grid is printed each time we call the `act()` method. You probably might want to set `verbose=False` when you run Q-learning for thousands of episodes. \n",
    "\n",
    "As expected, the `reward` is 0 and no one has won the game yet (`game_over` is `False`). Let us drop another disk into the same column."
   ]
  },
  {
   "cell_type": "code",
   "execution_count": 3,
   "metadata": {},
   "outputs": [
    {
     "name": "stdout",
     "output_type": "stream",
     "text": [
      "[[' ' ' ' ' ' ' ' ' ']\n",
      " [' ' ' ' 'o' ' ' ' ']\n",
      " [' ' ' ' 'x' ' ' ' ']]\n"
     ]
    }
   ],
   "source": [
    "reward, game_over = env.act(action=2)"
   ]
  },
  {
   "cell_type": "markdown",
   "metadata": {},
   "source": [
    "We see that the `Connect` environment automatically switches the\n",
    "\n",
    "The `grid` is stored as a two-dimensional `numpy` array in the `Connect` class and you can easily access it by calling..."
   ]
  },
  {
   "cell_type": "code",
   "execution_count": 4,
   "metadata": {},
   "outputs": [
    {
     "name": "stdout",
     "output_type": "stream",
     "text": [
      "[[' ' ' ' 'x' ' ' ' ']\n",
      " [' ' ' ' 'o' ' ' ' ']\n",
      " [' ' ' ' ' ' ' ' ' ']]\n"
     ]
    }
   ],
   "source": [
    "current_grid = env.grid\n",
    "print(current_grid)"
   ]
  },
  {
   "cell_type": "markdown",
   "metadata": {},
   "source": [
    "Note that the grid now appears to be \"upside down\" because `numpy` arrays are printed from \"top to bottom\".\n",
    "We can also print it the way it is printed by the Connect class by calling..."
   ]
  },
  {
   "cell_type": "code",
   "execution_count": 5,
   "metadata": {},
   "outputs": [
    {
     "name": "stdout",
     "output_type": "stream",
     "text": [
      "[[' ' ' ' ' ' ' ' ' ']\n",
      " [' ' ' ' 'o' ' ' ' ']\n",
      " [' ' ' ' 'x' ' ' ' ']]\n"
     ]
    }
   ],
   "source": [
    "print(current_grid[::-1])"
   ]
  },
  {
   "cell_type": "markdown",
   "metadata": {},
   "source": [
    "Let's make another move."
   ]
  },
  {
   "cell_type": "code",
   "execution_count": 6,
   "metadata": {},
   "outputs": [
    {
     "name": "stdout",
     "output_type": "stream",
     "text": [
      "[[' ' ' ' 'x' ' ' ' ']\n",
      " [' ' ' ' 'o' ' ' ' ']\n",
      " [' ' ' ' 'x' ' ' ' ']]\n"
     ]
    }
   ],
   "source": [
    "reward, game_over = env.act(action=2)"
   ]
  },
  {
   "cell_type": "markdown",
   "metadata": {},
   "source": [
    "Let us try to put another disk in the same column with `act(action=2)`. The environment will throw an error because that column is already filled."
   ]
  },
  {
   "cell_type": "markdown",
   "metadata": {},
   "source": [
    "The attribute `.available_actions` of the `Connect` class contains a `numpy` array of all not yet filled columns. This variable should help you to avoid errors like the one we have just encountered."
   ]
  },
  {
   "cell_type": "code",
   "execution_count": 7,
   "metadata": {},
   "outputs": [
    {
     "name": "stdout",
     "output_type": "stream",
     "text": [
      "[0 1 3 4]\n"
     ]
    }
   ],
   "source": [
    "print(env.available_actions)"
   ]
  },
  {
   "cell_type": "markdown",
   "metadata": {},
   "source": [
    "Note that column index '2' is missing because this column is already filled.\n",
    "\n",
    "Let's keep on playing until some player wins..."
   ]
  },
  {
   "cell_type": "code",
   "execution_count": 8,
   "metadata": {},
   "outputs": [
    {
     "name": "stdout",
     "output_type": "stream",
     "text": [
      "[[' ' ' ' 'x' ' ' ' ']\n",
      " [' ' ' ' 'o' ' ' ' ']\n",
      " [' ' ' ' 'x' 'o' ' ']]\n",
      "reward = 0 game_over = False\n",
      "[[' ' ' ' 'x' ' ' ' ']\n",
      " [' ' ' ' 'o' ' ' ' ']\n",
      " [' ' 'x' 'x' 'o' ' ']]\n",
      "reward = 0 game_over = False\n",
      "[[' ' ' ' 'x' ' ' ' ']\n",
      " [' ' ' ' 'o' 'o' ' ']\n",
      " [' ' 'x' 'x' 'o' ' ']]\n",
      "reward = 0 game_over = False\n",
      "[[' ' ' ' 'x' ' ' ' ']\n",
      " [' ' 'x' 'o' 'o' ' ']\n",
      " [' ' 'x' 'x' 'o' ' ']]\n",
      "reward = 0 game_over = False\n",
      "[[' ' ' ' 'x' 'o' ' ']\n",
      " [' ' 'x' 'o' 'o' ' ']\n",
      " [' ' 'x' 'x' 'o' ' ']]\n",
      "Player ' o ' has won the game!\n",
      "reward = 1 game_over = True\n"
     ]
    }
   ],
   "source": [
    "reward, game_over = env.act(action=3)\n",
    "print(\"reward =\", reward, \"game_over =\", game_over) \n",
    "reward, game_over = env.act(action=1)\n",
    "print(\"reward =\", reward, \"game_over =\", game_over)\n",
    "reward, game_over = env.act(action=3)\n",
    "print(\"reward =\", reward, \"game_over =\", game_over)\n",
    "reward, game_over = env.act(action=1)\n",
    "print(\"reward =\", reward, \"game_over =\", game_over)\n",
    "reward, game_over = env.act(action=3)\n",
    "print(\"reward =\", reward, \"game_over =\", game_over)"
   ]
  },
  {
   "cell_type": "markdown",
   "metadata": {},
   "source": [
    "#### Note that the `reward` returned by the `act()` method is the reward for player `'o'`.\n",
    "\n",
    "You can reset the game using the `reset()` method. This method cleans the grid and makes sure that the it is the `starting_player`'s turn as defined earlier."
   ]
  },
  {
   "cell_type": "code",
   "execution_count": 9,
   "metadata": {},
   "outputs": [
    {
     "name": "stdout",
     "output_type": "stream",
     "text": [
      "Game has been reset.\n",
      "[[' ' ' ' ' ' ' ' ' ']\n",
      " [' ' ' ' ' ' ' ' ' ']\n",
      " [' ' ' ' ' ' ' ' ' ']]\n"
     ]
    }
   ],
   "source": [
    "env.reset()\n",
    "#reward, game_over = env.act(1)\n"
   ]
  },
  {
   "cell_type": "markdown",
   "metadata": {},
   "source": [
    "Feel free to modify existing or add new methods to the `Connect` class."
   ]
  },
  {
   "cell_type": "markdown",
   "metadata": {},
   "source": [
    "## Q-learning\n",
    "\n",
    "**Your opponent is always the first player. Your agent is always the second player.**\n",
    "\n",
    "For your reference, the pseudo-code for Q-learning is reproduced below from the textbook (Reinforcement Learning, Sutton & Barto, 1998, Section 6.5).\n",
    "<img src=\"images/q_learning.png\" style=\"width: 600px;\"/>\n",
    "\n",
    "Prepare a **learning curve** following the directions below. We refer to this as Plot 1.\n",
    "\n",
    "After $n$ steps of interaction with the environment, play $m$ games with the current policy of the agent (without modifying the policy). Think of this as interrupting the agent for a period of time to test how well it has learned so far. Your plot should show the total score obtained in these $m$ games as a function of $n, 2n, 3n, … kn$. The choices of $n$ and $k$ are up to you. They should be reasonable values that demonstrate the efficiency of the learning and how well the agent learns to play the game eventually. Use $m=10$. \n",
    "\n",
    "This plot should show the mean performance of `a` agents, not the performance of a single agent. Because of the stochasticity in the environment, you will obtain two different learning curves from two different agents even though they are using exactly the same algorithm. We suggest setting `a` to 20 or higher.\n",
    "\n",
    "Present a single mean learning curve with your choice of parameters $\\epsilon$ and $\\alpha$. The plot should also show (as a baseline) the mean performance of a random agent that does not learn but chooses actions uniformly randomly from among the legal actions. Label this line “Random Agent”. \n",
    "\n",
    "Please include this plot as a static figure in the appropriate cell below. That is, compute the learning curve in the lab or at home (this may take a couple of minutes depending on your implementation) and save the figure in the same directory as your notebook. Import this figure in the appropriate answer cell under (A). You can look at the source code of this markdown cell (double click on it!) to find out how to embed figures using html. Do **not** use drag & drop to include figures; we would not be able to see them! Make sure to include the locally stored images in your submission. "
   ]
  },
  {
   "cell_type": "code",
   "execution_count": 10,
   "metadata": {
    "deletable": false,
    "nbgrader": {
     "checksum": "1431aa87b9e9019a4dbe6e696e0a9082",
     "grade": true,
     "grade_id": "cell-3ac2114f764e8410",
     "locked": false,
     "points": 0,
     "schema_version": 1,
     "solution": true
    }
   },
   "outputs": [
    {
     "data": {
      "text/plain": [
       "'\\n### Write all your code for Part 1 within or above this cell. \\nimport matplotlib.pyplot as plt\\nimport random\\nimport connect\\nimport numpy as np\\n\\n#returns the maximum q value achiveable from the current state\\ndef max_next_item(q_table, grid):\\n    table = []\\n    \\n    for i in range(0, 5):\\n        #spots that are in use are assigned a very low value so they are never picked \\n        if (env.grid[2,i] == \"x\" or env.grid[2,i] == \"o\"):\\n            q_table[grid, i] = 0\\n            table += [-10000]\\n        elif ((grid, i) in q_table):\\n            table += [q_table[grid, i]]\\n        else:\\n            q_table[grid, i] = 0\\n            table += [0]\\n            \\n    maximum = max(table)\\n    return maximum\\n\\n\\n#returns the best possible move from current state\\ndef max_next(q_table, grid):\\n    table = []\\n    for i in range(0, 5):\\n        if (env.grid[2,i] == \"x\" or env.grid[2,i] == \"o\"):\\n            q_table[grid, i] = 0\\n            table += [-10000]\\n        elif ((grid, i) in q_table):\\n            table += [q_table[grid, i]]\\n        else:\\n            q_table[grid, i] = 0\\n            table += [0]\\n            \\n    maximum = max(table)\\n    max_moves = []\\n    for i in range(0, 5):\\n        if (table[i] == maximum):\\n            max_moves += [i]\\n    \\n    #if there are multiple moves with the same q value pick randomly between them to avoid bias\\n    if (len(max_moves) == 1):\\n        return max_moves[0]\\n    else:\\n        random_move = random.randint(0,len(max_moves)-1)\\n        return max_moves[random_move]\\n\\n    \\n#converts grid to a string that can be used as a dictionary index\\ndef convert_grid_to_state(current_grid):\\n    state = \"\"\\n    for i in range(0, 3):\\n        for j in range(0, 5):\\n            if (current_grid[i][j] == \"x\"):\\n                state+=\"x\"\\n            elif (current_grid[i][j] == \"o\"):\\n                state+=\"o\"\\n            else:\\n                state+=\"y\"\\n    \\n    return state\\n\\n\\ndef plot(wins, random_wins):\\n    %matplotlib inline\\n    x = np.arange(0,len(wins))\\n    x = x*400\\n    y = np.array(wins)\\n    y2 = np.array(random_wins)\\n    fig, ax1 = plt.subplots(nrows = 1, ncols = 1 )\\n    ax1.plot(x,y2, color = \"red\", label=\"random agent\")\\n    ax1.plot(x,y, color = \"blue\", label=\"learning agent\")\\n    ax1.set_xlabel(\\'n\\')\\n    ax1.set_ylabel(\\'average agent score\\')\\n    ax1.legend()\\n    plt.show()\\n\\n    \\n#decides whether to pick a random move or an optimal one\\ndef pickMove(q_table):\\n    epsilon = 0.1\\n    random_action_chance = random.randint(0,10)\\n    #find action with biggest q value\\n    move = max_next(q_table, convert_grid_to_state(env.grid))\\n\\n    if (random_action_chance <= epsilon*10):\\n        #choose random action\\n        random_move = random.randint(0,4)\\n        while (env.grid[2,move] == \"x\" or env.grid[2,move] == \"o\"):\\n            move = random.randint(0,4)\\n            \\n    return move\\n\\n#plays n games and updates q table\\ndef train_for_n_steps(q_table):\\n    n = 400\\n    alpha = 0.1\\n    moves = 0\\n    gamma = 1\\n\\n    while (moves <= n):\\n        env.reset()\\n        #radnom npc move\\n        reward, game_over = env.act(random.randint(0,4))\\n\\n        while (game_over == False):\\n            move = pickMove(q_table)\\n            grid = convert_grid_to_state(env.grid)\\n            prev = q_table[grid, move]\\n            previous_grid = grid\\n            reward, game_over = env.act(move)\\n            #random npc move\\n            if (game_over == False):\\n                #prevents npc making invalid move\\n                npc_move = random.randint(0,4)\\n                while (env.grid[2,npc_move] == \"x\" or env.grid[2,npc_move] == \"o\"):\\n                    npc_move = random.randint(0,4)\\n                reward, game_over = env.act(npc_move)\\n\\n            #update q table for game state and action chosen\\n            update_value = prev + alpha * (reward + gamma * (max_next_item(q_table, convert_grid_to_state(env.grid)) - prev))\\n            q_table[previous_grid, move] = update_value\\n            moves = moves + 1\\n            if (moves == n):\\n                break\\n            \\n    return(q_table)\\n        \\n#play 10 games with the current q table and don\\'t change it        \\ndef play_m_games(q_table):\\n    reward = 0\\n    m = 9\\n    score = 0\\n    gamesPlayed = 0\\n    while (gamesPlayed <= m):\\n        score = score + reward\\n        env.reset()\\n        reward, game_over = env.act(random.randint(0,4))\\n        gamesPlayed = gamesPlayed + 1\\n        while (game_over == False):\\n            move = pickMove(q_table)\\n            reward, game_over = env.act(move)\\n            if (game_over == False):\\n                #prevents npc making invalid move\\n                npc_move = random.randint(0,4)\\n                while (env.grid[2,npc_move] == \"x\" or env.grid[2,npc_move] == \"o\"):\\n                    npc_move = random.randint(0,4)\\n                reward, game_over = env.act(npc_move)\\n    \\n    score = score + reward\\n    return score\\n\\n#play 10 games making random moves for player and npc\\ndef play_m_random_games():\\n    reward = 0\\n    m = 9\\n    score = 0\\n    gamesPlayed = 0\\n    while (gamesPlayed <= m):\\n        score = score + reward\\n        env.reset()\\n        reward, game_over = env.act(random.randint(0,4))\\n        gamesPlayed = gamesPlayed + 1\\n        while (game_over == False):\\n            move = random.randint(0,4)\\n            while (env.grid[2,move] == \"x\" or env.grid[2,move] == \"o\"):\\n                move = random.randint(0,4)\\n                \\n            reward, game_over = env.act(move)\\n            \\n            if (game_over == False):\\n                npc_move = random.randint(0,4)\\n                while (env.grid[2,npc_move] == \"x\" or env.grid[2,npc_move] == \"o\"):\\n                    npc_move = random.randint(0,4)\\n\\n                reward, game_over = env.act(npc_move)\\n                \\n    score = score + reward\\n    #print(score)\\n    return score\\n            \\n    \\n#Main code body    \\nenv = connect.Connect(starting_player=\\'x\\', verbose=False)\\nall_wins = []\\nall_random_wins = []\\n\\n#dispatch 20 agents to play randomly and 20 to play using q table \\nfor a in range(0,20):\\n    q_table = {}\\n    wins = []\\n    for k in range(0,400):\\n        q_table = train_for_n_steps(q_table)\\n        wins += [play_m_games(q_table)]\\n    all_wins += [wins]\\n    \\nfor a in range(0,20):\\n    random_wins = []\\n    for k in range(0,400):\\n        random_wins += [play_m_random_games()]\\n    all_random_wins += [random_wins]\\n\\n#find the mean of all agents\\nall_wins = np.mean(all_wins, axis=0)\\nall_random_wins = np.mean(all_random_wins, axis=0)\\n\\nplot(all_wins, all_random_wins)\\n'"
      ]
     },
     "execution_count": 10,
     "metadata": {},
     "output_type": "execute_result"
    }
   ],
   "source": [
    "\"\"\"\n",
    "### Write all your code for Part 1 within or above this cell. \n",
    "import matplotlib.pyplot as plt\n",
    "import random\n",
    "import connect\n",
    "import numpy as np\n",
    "\n",
    "#returns the maximum q value achiveable from the current state\n",
    "def max_next_item(q_table, grid):\n",
    "    table = []\n",
    "    \n",
    "    for i in range(0, 5):\n",
    "        #spots that are in use are assigned a very low value so they are never picked \n",
    "        if (env.grid[2,i] == \"x\" or env.grid[2,i] == \"o\"):\n",
    "            q_table[grid, i] = 0\n",
    "            table += [-10000]\n",
    "        elif ((grid, i) in q_table):\n",
    "            table += [q_table[grid, i]]\n",
    "        else:\n",
    "            q_table[grid, i] = 0\n",
    "            table += [0]\n",
    "            \n",
    "    maximum = max(table)\n",
    "    return maximum\n",
    "\n",
    "\n",
    "#returns the best possible move from current state\n",
    "def max_next(q_table, grid):\n",
    "    table = []\n",
    "    for i in range(0, 5):\n",
    "        if (env.grid[2,i] == \"x\" or env.grid[2,i] == \"o\"):\n",
    "            q_table[grid, i] = 0\n",
    "            table += [-10000]\n",
    "        elif ((grid, i) in q_table):\n",
    "            table += [q_table[grid, i]]\n",
    "        else:\n",
    "            q_table[grid, i] = 0\n",
    "            table += [0]\n",
    "            \n",
    "    maximum = max(table)\n",
    "    max_moves = []\n",
    "    for i in range(0, 5):\n",
    "        if (table[i] == maximum):\n",
    "            max_moves += [i]\n",
    "    \n",
    "    #if there are multiple moves with the same q value pick randomly between them to avoid bias\n",
    "    if (len(max_moves) == 1):\n",
    "        return max_moves[0]\n",
    "    else:\n",
    "        random_move = random.randint(0,len(max_moves)-1)\n",
    "        return max_moves[random_move]\n",
    "\n",
    "    \n",
    "#converts grid to a string that can be used as a dictionary index\n",
    "def convert_grid_to_state(current_grid):\n",
    "    state = \"\"\n",
    "    for i in range(0, 3):\n",
    "        for j in range(0, 5):\n",
    "            if (current_grid[i][j] == \"x\"):\n",
    "                state+=\"x\"\n",
    "            elif (current_grid[i][j] == \"o\"):\n",
    "                state+=\"o\"\n",
    "            else:\n",
    "                state+=\"y\"\n",
    "    \n",
    "    return state\n",
    "\n",
    "\n",
    "def plot(wins, random_wins):\n",
    "    %matplotlib inline\n",
    "    x = np.arange(0,len(wins))\n",
    "    x = x*400\n",
    "    y = np.array(wins)\n",
    "    y2 = np.array(random_wins)\n",
    "    fig, ax1 = plt.subplots(nrows = 1, ncols = 1 )\n",
    "    ax1.plot(x,y2, color = \"red\", label=\"random agent\")\n",
    "    ax1.plot(x,y, color = \"blue\", label=\"learning agent\")\n",
    "    ax1.set_xlabel('n')\n",
    "    ax1.set_ylabel('average agent score')\n",
    "    ax1.legend()\n",
    "    plt.show()\n",
    "\n",
    "    \n",
    "#decides whether to pick a random move or an optimal one\n",
    "def pickMove(q_table):\n",
    "    epsilon = 0.1\n",
    "    random_action_chance = random.randint(0,10)\n",
    "    #find action with biggest q value\n",
    "    move = max_next(q_table, convert_grid_to_state(env.grid))\n",
    "\n",
    "    if (random_action_chance <= epsilon*10):\n",
    "        #choose random action\n",
    "        random_move = random.randint(0,4)\n",
    "        while (env.grid[2,move] == \"x\" or env.grid[2,move] == \"o\"):\n",
    "            move = random.randint(0,4)\n",
    "            \n",
    "    return move\n",
    "\n",
    "#plays n games and updates q table\n",
    "def train_for_n_steps(q_table):\n",
    "    n = 400\n",
    "    alpha = 0.1\n",
    "    moves = 0\n",
    "    gamma = 1\n",
    "\n",
    "    while (moves <= n):\n",
    "        env.reset()\n",
    "        #radnom npc move\n",
    "        reward, game_over = env.act(random.randint(0,4))\n",
    "\n",
    "        while (game_over == False):\n",
    "            move = pickMove(q_table)\n",
    "            grid = convert_grid_to_state(env.grid)\n",
    "            prev = q_table[grid, move]\n",
    "            previous_grid = grid\n",
    "            reward, game_over = env.act(move)\n",
    "            #random npc move\n",
    "            if (game_over == False):\n",
    "                #prevents npc making invalid move\n",
    "                npc_move = random.randint(0,4)\n",
    "                while (env.grid[2,npc_move] == \"x\" or env.grid[2,npc_move] == \"o\"):\n",
    "                    npc_move = random.randint(0,4)\n",
    "                reward, game_over = env.act(npc_move)\n",
    "\n",
    "            #update q table for game state and action chosen\n",
    "            update_value = prev + alpha * (reward + gamma * (max_next_item(q_table, convert_grid_to_state(env.grid)) - prev))\n",
    "            q_table[previous_grid, move] = update_value\n",
    "            moves = moves + 1\n",
    "            if (moves == n):\n",
    "                break\n",
    "            \n",
    "    return(q_table)\n",
    "        \n",
    "#play 10 games with the current q table and don't change it        \n",
    "def play_m_games(q_table):\n",
    "    reward = 0\n",
    "    m = 9\n",
    "    score = 0\n",
    "    gamesPlayed = 0\n",
    "    while (gamesPlayed <= m):\n",
    "        score = score + reward\n",
    "        env.reset()\n",
    "        reward, game_over = env.act(random.randint(0,4))\n",
    "        gamesPlayed = gamesPlayed + 1\n",
    "        while (game_over == False):\n",
    "            move = pickMove(q_table)\n",
    "            reward, game_over = env.act(move)\n",
    "            if (game_over == False):\n",
    "                #prevents npc making invalid move\n",
    "                npc_move = random.randint(0,4)\n",
    "                while (env.grid[2,npc_move] == \"x\" or env.grid[2,npc_move] == \"o\"):\n",
    "                    npc_move = random.randint(0,4)\n",
    "                reward, game_over = env.act(npc_move)\n",
    "    \n",
    "    score = score + reward\n",
    "    return score\n",
    "\n",
    "#play 10 games making random moves for player and npc\n",
    "def play_m_random_games():\n",
    "    reward = 0\n",
    "    m = 9\n",
    "    score = 0\n",
    "    gamesPlayed = 0\n",
    "    while (gamesPlayed <= m):\n",
    "        score = score + reward\n",
    "        env.reset()\n",
    "        reward, game_over = env.act(random.randint(0,4))\n",
    "        gamesPlayed = gamesPlayed + 1\n",
    "        while (game_over == False):\n",
    "            move = random.randint(0,4)\n",
    "            while (env.grid[2,move] == \"x\" or env.grid[2,move] == \"o\"):\n",
    "                move = random.randint(0,4)\n",
    "                \n",
    "            reward, game_over = env.act(move)\n",
    "            \n",
    "            if (game_over == False):\n",
    "                npc_move = random.randint(0,4)\n",
    "                while (env.grid[2,npc_move] == \"x\" or env.grid[2,npc_move] == \"o\"):\n",
    "                    npc_move = random.randint(0,4)\n",
    "\n",
    "                reward, game_over = env.act(npc_move)\n",
    "                \n",
    "    score = score + reward\n",
    "    #print(score)\n",
    "    return score\n",
    "            \n",
    "    \n",
    "#Main code body    \n",
    "env = connect.Connect(starting_player='x', verbose=False)\n",
    "all_wins = []\n",
    "all_random_wins = []\n",
    "\n",
    "#dispatch 20 agents to play randomly and 20 to play using q table \n",
    "for a in range(0,20):\n",
    "    q_table = {}\n",
    "    wins = []\n",
    "    for k in range(0,400):\n",
    "        q_table = train_for_n_steps(q_table)\n",
    "        wins += [play_m_games(q_table)]\n",
    "    all_wins += [wins]\n",
    "    \n",
    "for a in range(0,20):\n",
    "    random_wins = []\n",
    "    for k in range(0,400):\n",
    "        random_wins += [play_m_random_games()]\n",
    "    all_random_wins += [random_wins]\n",
    "\n",
    "#find the mean of all agents\n",
    "all_wins = np.mean(all_wins, axis=0)\n",
    "all_random_wins = np.mean(all_random_wins, axis=0)\n",
    "\n",
    "plot(all_wins, all_random_wins)\n",
    "\"\"\""
   ]
  },
  {
   "cell_type": "markdown",
   "metadata": {
    "deletable": false,
    "nbgrader": {
     "checksum": "980d73fb62fae59d610abc96121f71bc",
     "grade": true,
     "grade_id": "cell-ce1405b859519f91",
     "locked": false,
     "points": 60,
     "schema_version": 1,
     "solution": true
    }
   },
   "source": [
    "(A) [continued} Insert your static learning curve here (Plot 1).\n",
    "\n",
    "<img src=\"final graph.png\" style=\"width: 600px;\"/>\n",
    "\n",
    "(B) In 3 sentences or less, explain your conclusions from the plot above. How close does your (average) agent get to the best possible level of performance? How efficiently does your (average) agent learn? \n",
    "\n",
    "At its peak the agent reaches a win ratio of a little over 95%. If the best possible performance is a 100% win rate, the agent gets close being 10-5% away the majority of the time by the later episodes. It learns in an efficient manor, with the initial gradient of learning being very steep, the majority of learning is done by 50n (20,000) steps of interaction and the random agent is overtaken almost immediatly. \n",
    "\n",
    "(C) In five sentences or less, explain the key aspects of your implementation. How many state-action pairs do you represent in your Q-table? Describe and justify your settings of $\\alpha$ and $\\epsilon$. Are there any things you tried out that are not in your final implementation?\n",
    "\n",
    "In my implementation of q learning, a random npc move is made at the start of the game, then until the game ends a player move is chosen using an epsilon greedy method, then if the game is not finished the npc plays again. After this the state action pair of the initial board state and player action is updated as per the q learning algorithm, taking the previous value, reward and maximum potential q value of the new state into account (this process is repeated for each episode of 400 moves).\n",
    "\n",
    "Alpha dictates how much you value the most recent experince as opposed to the past q value, I found the optimal value to be 0.1 as anything more would be more likely to disregard past experinces given time, since the game is finite and fairly small I have used a gamma value of 1.\n",
    "\n",
    "Epsilon is the chance of picking a random move as opposed to the optimal one, initially I was going to vary epsilon but settled on a fixed value of 0.1, any higher and it picked randomly too often and any lower and it didn't experiment enough to learn efficiently.\n",
    "\n",
    "My Q-table is represented as a dictionary indexed by a grid/action tuple, it contains state action pairs for every state the game enters during play, if it searches for a state value pair not in the q table it adds it as 0, as such it stores values for every action for each state even if those moves have not been chosen yet.\n",
    "\n",
    "\n",
    "(D) In the cell below, make it possible for us to produce from scratch a learning curve similar to Plot 1 but for a single agent, for a $k$ value of your own choosing. You do not need to include the baseline for random play.  This code should run in less than 30 seconds (ours runs in 2 seconds). \n"
   ]
  },
  {
   "cell_type": "code",
   "execution_count": 11,
   "metadata": {
    "deletable": false,
    "nbgrader": {
     "checksum": "e65915a61d304027e4fbd2e714c4beba",
     "grade": true,
     "grade_id": "cell-e0e01e05236aee45",
     "locked": false,
     "points": 40,
     "schema_version": 1,
     "solution": true
    }
   },
   "outputs": [
    {
     "data": {
      "image/png": "[encoded data removed]",
      "text/plain": [
       "<Figure size 432x288 with 1 Axes>"
      ]
     },
     "metadata": {
      "needs_background": "light"
     },
     "output_type": "display_data"
    }
   ],
   "source": [
    "### This cell should produce from scratch a plot showing a learning curve for a single agent.\n",
    "\n",
    "#####################################################COPY PASTED FROM PART 1 ###################################\n",
    "### Write all your code for Part 1 within or above this cell. \n",
    "import matplotlib.pyplot as plt\n",
    "import random\n",
    "import connect\n",
    "import numpy as np\n",
    "\n",
    "#returns the maximum q value achiveable from the current state\n",
    "def max_next_item(q_table, grid):\n",
    "    table = []\n",
    "    \n",
    "    for i in range(0, 5):\n",
    "        #spots that are in use are assigned a very low value so they are never picked \n",
    "        if (env.grid[2,i] == \"x\" or env.grid[2,i] == \"o\"):\n",
    "            q_table[grid, i] = 0\n",
    "            table += [-10000]\n",
    "        elif ((grid, i) in q_table):\n",
    "            table += [q_table[grid, i]]\n",
    "        else:\n",
    "            q_table[grid, i] = 0\n",
    "            table += [0]\n",
    "            \n",
    "    maximum = max(table)\n",
    "    return maximum\n",
    "\n",
    "\n",
    "#returns the best possible move from current state\n",
    "def max_next(q_table, grid):\n",
    "    table = []\n",
    "    for i in range(0, 5):\n",
    "        if (env.grid[2,i] == \"x\" or env.grid[2,i] == \"o\"):\n",
    "            q_table[grid, i] = 0\n",
    "            table += [-10000]\n",
    "        elif ((grid, i) in q_table):\n",
    "            table += [q_table[grid, i]]\n",
    "        else:\n",
    "            q_table[grid, i] = 0\n",
    "            table += [0]\n",
    "            \n",
    "    maximum = max(table)\n",
    "    max_moves = []\n",
    "    for i in range(0, 5):\n",
    "        if (table[i] == maximum):\n",
    "            max_moves += [i]\n",
    "    \n",
    "    #if there are multiple moves with the same q value pick randomly between them to avoid bias\n",
    "    if (len(max_moves) == 1):\n",
    "        return max_moves[0]\n",
    "    else:\n",
    "        random_move = random.randint(0,len(max_moves)-1)\n",
    "        return max_moves[random_move]\n",
    "\n",
    "    \n",
    "#converts grid to a string that can be used as a dictionary index\n",
    "def convert_grid_to_state(current_grid):\n",
    "    state = \"\"\n",
    "    for i in range(0, 3):\n",
    "        for j in range(0, 5):\n",
    "            if (current_grid[i][j] == \"x\"):\n",
    "                state+=\"x\"\n",
    "            elif (current_grid[i][j] == \"o\"):\n",
    "                state+=\"o\"\n",
    "            else:\n",
    "                state+=\"y\"\n",
    "    \n",
    "    return state\n",
    "\n",
    "\n",
    "def plot(wins, random_wins):\n",
    "    %matplotlib inline\n",
    "    x = np.arange(0,len(wins))\n",
    "    x = x*400\n",
    "    y = np.array(wins)\n",
    "    y2 = np.array(random_wins)\n",
    "    fig, ax1 = plt.subplots(nrows = 1, ncols = 1 )\n",
    "    ax1.plot(x,y2, color = \"red\", label=\"random agent\")\n",
    "    ax1.plot(x,y, color = \"blue\", label=\"learning agent\")\n",
    "    ax1.set_xlabel('n')\n",
    "    ax1.set_ylabel('average agent score')\n",
    "    ax1.legend()\n",
    "    plt.show()\n",
    "\n",
    "    \n",
    "#decides whether to pick a random move or an optimal one\n",
    "def pickMove(q_table):\n",
    "    epsilon = 0.1\n",
    "    random_action_chance = random.randint(0,10)\n",
    "    #find action with biggest q value\n",
    "    move = max_next(q_table, convert_grid_to_state(env.grid))\n",
    "\n",
    "    if (random_action_chance <= epsilon*10):\n",
    "        #choose random action\n",
    "        random_move = random.randint(0,4)\n",
    "        while (env.grid[2,move] == \"x\" or env.grid[2,move] == \"o\"):\n",
    "            move = random.randint(0,4)\n",
    "            \n",
    "    return move\n",
    "\n",
    "#plays n games and updates q table\n",
    "def train_for_n_steps(q_table):\n",
    "    n = 400\n",
    "    alpha = 0.1\n",
    "    moves = 0\n",
    "    gamma = 1\n",
    "\n",
    "    while (moves <= n):\n",
    "        env.reset()\n",
    "        #radnom npc move\n",
    "        reward, game_over = env.act(random.randint(0,4))\n",
    "\n",
    "        while (game_over == False):\n",
    "            move = pickMove(q_table)\n",
    "            grid = convert_grid_to_state(env.grid)\n",
    "            prev = q_table[grid, move]\n",
    "            previous_grid = grid\n",
    "            reward, game_over = env.act(move)\n",
    "            #random npc move\n",
    "            if (game_over == False):\n",
    "                #prevents npc making invalid move\n",
    "                npc_move = random.randint(0,4)\n",
    "                while (env.grid[2,npc_move] == \"x\" or env.grid[2,npc_move] == \"o\"):\n",
    "                    npc_move = random.randint(0,4)\n",
    "                reward, game_over = env.act(npc_move)\n",
    "\n",
    "            #update q table for game state and action chosen\n",
    "            update_value = prev + alpha * (reward + gamma * (max_next_item(q_table, convert_grid_to_state(env.grid)) - prev))\n",
    "            q_table[previous_grid, move] = update_value\n",
    "            moves = moves + 1\n",
    "            if (moves == n):\n",
    "                break\n",
    "            \n",
    "    return(q_table)\n",
    "        \n",
    "#play 10 games with the current q table and don't change it        \n",
    "def play_m_games(q_table):\n",
    "    reward = 0\n",
    "    m = 9\n",
    "    score = 0\n",
    "    gamesPlayed = 0\n",
    "    while (gamesPlayed <= m):\n",
    "        score = score + reward\n",
    "        env.reset()\n",
    "        reward, game_over = env.act(random.randint(0,4))\n",
    "        gamesPlayed = gamesPlayed + 1\n",
    "        while (game_over == False):\n",
    "            move = pickMove(q_table)\n",
    "            reward, game_over = env.act(move)\n",
    "            if (game_over == False):\n",
    "                #prevents npc making invalid move\n",
    "                npc_move = random.randint(0,4)\n",
    "                while (env.grid[2,npc_move] == \"x\" or env.grid[2,npc_move] == \"o\"):\n",
    "                    npc_move = random.randint(0,4)\n",
    "                reward, game_over = env.act(npc_move)\n",
    "    \n",
    "    score = score + reward\n",
    "    return score\n",
    "\n",
    "#play 10 games making random moves for player and npc\n",
    "def play_m_random_games():\n",
    "    reward = 0\n",
    "    m = 9\n",
    "    score = 0\n",
    "    gamesPlayed = 0\n",
    "    while (gamesPlayed <= m):\n",
    "        score = score + reward\n",
    "        env.reset()\n",
    "        reward, game_over = env.act(random.randint(0,4))\n",
    "        gamesPlayed = gamesPlayed + 1\n",
    "        while (game_over == False):\n",
    "            move = random.randint(0,4)\n",
    "            while (env.grid[2,move] == \"x\" or env.grid[2,move] == \"o\"):\n",
    "                move = random.randint(0,4)\n",
    "                \n",
    "            reward, game_over = env.act(move)\n",
    "            \n",
    "            if (game_over == False):\n",
    "                npc_move = random.randint(0,4)\n",
    "                while (env.grid[2,npc_move] == \"x\" or env.grid[2,npc_move] == \"o\"):\n",
    "                    npc_move = random.randint(0,4)\n",
    "\n",
    "                reward, game_over = env.act(npc_move)\n",
    "                \n",
    "    score = score + reward\n",
    "    #print(score)\n",
    "    return score\n",
    "            \n",
    "    \n",
    "#Main code body    \n",
    "env = connect.Connect(starting_player='x', verbose=False)\n",
    "\n",
    "\n",
    "#######################################REPEAT CODE ENDS HERE###############################################################\n",
    "\n",
    "q_table = {}\n",
    "wins = []\n",
    "for k in range(0,100):\n",
    "    q_table = train_for_n_steps(q_table)\n",
    "    wins += [play_m_games(q_table)]\n",
    "\n",
    "%matplotlib inline\n",
    "x = np.arange(0,len(wins))\n",
    "x = x\n",
    "y = np.array(wins)\n",
    "y2 = np.array(wins)\n",
    "fig, ax1 = plt.subplots(nrows = 1, ncols = 1 )\n",
    "ax1.plot(x,y, color = \"blue\", label=\"learning agent\")\n",
    "ax1.set_xlabel('n')\n",
    "ax1.set_ylabel('agent wins')\n",
    "ax1.legend()\n",
    "\n",
    "\n",
    "\n",
    "\n",
    "plt.show()"
   ]
  },
  {
   "cell_type": "markdown",
   "metadata": {},
   "source": [
    "+# IMPORTANT: How to submit.\n",
    "\n",
    "If any of the following instructions is not clear, please ask your tutors well ahead of the submission deadline.\n",
    "\n",
    "### Before you submit\n",
    "- We will not be able to mark your coursework if it takes more than 1 minutes to execute your entire notebook. That is, comment out (but do not delete) the code that you used to produce Plot 1 (i.e., learning curve averaged across many agents). Do **not** comment out the code that you use to produce a learning curve for a single agent (Exercise D).\n",
    "- Restart the kernel (_Kernel $\\rightarrow$ Restart & Run All_) and make sure that you can run all cells from top to bottom without any errors.\n",
    "- Make sure that your code is written in Python 3 (and not in Python 2!). You can check the Python version of the current session in the top-right corner below the Python logo.\n",
    "\n",
    "### Submission file\n",
    "- Please upload to Moodle a .zip file (**not** `.rar`, `.7z`, or any other archive format) that contains the completed Jupyter notebook (`ai4_connect_three.ipynb`) as well as the pre-computed figure(s). \n",
    "- **If** you change the `connect.py` file or write your own version of the environment, include the corresponding file in your submission, but give it any other name than `connect.py`. If you do not change its name, it will be overwritten  and we won't be able to execute your code! Make sure that you import the correct module when you rename your file, for example, use `import myConnect` if your file is called `myConnect.py`.\n",
    "- Do not include any identifying information. Not in the code cells, not in the file names, nowhere! Marking is anonymous."
   ]
  },
  {
   "cell_type": "code",
   "execution_count": null,
   "metadata": {},
   "outputs": [],
   "source": []
  },
  {
   "cell_type": "code",
   "execution_count": null,
   "metadata": {},
   "outputs": [],
   "source": []
  },
  {
   "cell_type": "code",
   "execution_count": null,
   "metadata": {},
   "outputs": [],
   "source": []
  },
  {
   "cell_type": "code",
   "execution_count": null,
   "metadata": {},
   "outputs": [],
   "source": []
  }
 ],
 "metadata": {
  "kernelspec": {
   "display_name": "Python 3",
   "language": "python",
   "name": "python3"
  },
  "language_info": {
   "codemirror_mode": {
    "name": "ipython",
    "version": 3
   },
   "file_extension": ".py",
   "mimetype": "text/x-python",
   "name": "python",
   "nbconvert_exporter": "python",
   "pygments_lexer": "ipython3",
   "version": "3.7.1"
  }
 },
 "nbformat": 4,
 "nbformat_minor": 2
}
